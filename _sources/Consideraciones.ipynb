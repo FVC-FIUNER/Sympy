{
 "cells": [
  {
   "cell_type": "markdown",
   "metadata": {},
   "source": [
    "# Consideraciones"
   ]
  },
  {
   "cell_type": "markdown",
   "metadata": {},
   "source": [
    "A pesar de todas sus funcionalidades, Sympy aún no es una librería robusta en el cálculo de transformadas de Laplace, especialmente en el cálculo de transformadas inversas. La capacidad de cálculo de la antitransformada generalmente depende en gran medida de **cómo** expresamos nuestra función de interés sobre la cual queremos aplicar el operador. Algunas de las consideraciones a tener en cuenta al momento de utilizar la librería son:\n"
   ]
  },
  {
   "cell_type": "markdown",
   "metadata": {},
   "source": [
    ">  Uno de los motivos comunes por los que el software no es capaz de realizar el cálculo de una transformada inversa se debe a que las constantes numéricas involucradas están expresadas como valores flotantes y no como variables simbólicas. Por ejemplo, si una constante involucrada en el cálculo es $k = 0.5$ y el software no es capaz de resolver la antitransformada, una posible solución al problema es expresar la misma como una variable simbólica mediante la función **Rational()**\n",
    "<center>\n",
    "\n",
    " ~~~ \n",
    " k = sp.Rational(1,2)\n",
    "~~~\n",
    "</center>"
   ]
  },
  {
   "cell_type": "markdown",
   "metadata": {},
   "source": [
    "> Cuando el software no sea capaz de realizar el cálculo que le estamos solicitando es probable que debamos reexpresar nuestra función de manera factorizada o como una combinación lineal de expresiones más simples. Si quisiéramos expresar expresar nuestra función como fraciones simples podríamos hacerlo mediante el método **apart()**.\n",
    "\n"
   ]
  },
  {
   "cell_type": "markdown",
   "metadata": {},
   "source": [
    ">Muchas veces los resultados devueltos están expresados en términos de constantes númericas que son prácticamente imposibles de interpretar y por lo tanto se vuelve difícil corroborar si el resultado devuelto por el software es correcto. Una forma de solucionar esto es forzar a que se evalúen las constantes numéricas y se expresen con una cantidad de digitos que nosotros deseemos. Esto podemos hacerlo mediante el método **evalf()**."
   ]
  },
  {
   "cell_type": "markdown",
   "metadata": {},
   "source": [
    "> "
   ]
  }
 ],
 "metadata": {
  "language_info": {
   "name": "python"
  }
 },
 "nbformat": 4,
 "nbformat_minor": 2
}
