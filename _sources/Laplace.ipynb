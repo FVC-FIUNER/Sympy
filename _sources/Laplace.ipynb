{
 "cells": [
  {
   "cell_type": "markdown",
   "metadata": {},
   "source": [
    "# La Transformada de Laplace"
   ]
  },
  {
   "cell_type": "markdown",
   "metadata": {},
   "source": [
    "## Introducción"
   ]
  },
  {
   "cell_type": "markdown",
   "metadata": {},
   "source": [
    "Sympy permite calcular transformadas de Laplace mediante la función **laplace_transform**, y la correspondiente transformada inversa mediante la función **inverse_laplace_transform**. En el caso de la transformada directa de manera predeterminada **laplace_transform** realiza el cálculo de la transformada y nos devuelve la función, la abscisa de convergencia y condiciones de convergencia auxiliares. En la mayoría de las situaciones prácticas nos interesa únicamente obtener el cálculo de la transformada de la función, por lo vamos a definir nuestras propias funciones para el cálculo de la transformada directa y la transformada inversa"
   ]
  },
  {
   "cell_type": "code",
   "execution_count": 18,
   "metadata": {},
   "outputs": [],
   "source": [
    "import sympy as sp\n",
    "\n",
    "# Se define la Transformada de Laplace\n",
    "def laplace(f):\n",
    "    s = sp.symbols('s')\n",
    "    t = sp.symbols ('t',real=True)\n",
    "    return sp.laplace_transform(f, t, s, noconds=True)\n",
    "# Se define la Transformada de Laplace inversa\n",
    "def ilaplace(F):\n",
    "    s = sp.symbols('s')\n",
    "    t = sp.symbols ('t',real=True)\n",
    "    return sp.inverse_laplace_transform(F, s, t, noconds=True)"
   ]
  },
  {
   "cell_type": "markdown",
   "metadata": {},
   "source": [
    "Ahora definimos las variables simbólicas que vamos a utilizar para trabajar"
   ]
  },
  {
   "cell_type": "code",
   "execution_count": 7,
   "metadata": {},
   "outputs": [],
   "source": [
    "t = sp.symbols(\"t\",real=True)\n",
    "s = sp.symbols(\"s\")"
   ]
  },
  {
   "cell_type": "markdown",
   "metadata": {},
   "source": [
    "A modo de ejemplo, consideraremos la función $f(t)=t^2+\\cos(3t)$"
   ]
  },
  {
   "cell_type": "code",
   "execution_count": 8,
   "metadata": {},
   "outputs": [
    {
     "data": {
      "text/latex": [
       "$\\displaystyle t^{2} + \\cos{\\left(3 t \\right)}$"
      ],
      "text/plain": [
       "t**2 + cos(3*t)"
      ]
     },
     "execution_count": 8,
     "metadata": {},
     "output_type": "execute_result"
    }
   ],
   "source": [
    "f_t = sp.cos(3*t)+t**2\n",
    "f_t"
   ]
  },
  {
   "cell_type": "markdown",
   "metadata": {},
   "source": [
    "Y calculamos $F(s)=\\mathscr{L}\\{f(t)\\}$"
   ]
  },
  {
   "cell_type": "code",
   "execution_count": 12,
   "metadata": {},
   "outputs": [
    {
     "data": {
      "text/latex": [
       "$\\displaystyle \\frac{s}{s^{2} + 9} + \\frac{2}{s^{3}}$"
      ],
      "text/plain": [
       "s/(s**2 + 9) + 2/s**3"
      ]
     },
     "execution_count": 12,
     "metadata": {},
     "output_type": "execute_result"
    }
   ],
   "source": [
    "F_s = laplace(f_t)\n",
    "F_s"
   ]
  },
  {
   "cell_type": "markdown",
   "metadata": {},
   "source": [
    "Podemos recuperar $f(t)$ mediante la transformada inversa $\\mathscr{L}^{-1}\\{f(t)\\}$"
   ]
  },
  {
   "cell_type": "code",
   "execution_count": 20,
   "metadata": {},
   "outputs": [
    {
     "data": {
      "text/latex": [
       "$\\displaystyle t^{2} \\theta\\left(t\\right) + \\cos{\\left(3 t \\right)} \\theta\\left(t\\right)$"
      ],
      "text/plain": [
       "t**2*Heaviside(t) + cos(3*t)*Heaviside(t)"
      ]
     },
     "execution_count": 20,
     "metadata": {},
     "output_type": "execute_result"
    }
   ],
   "source": [
    "ilaplace(F_s)"
   ]
  },
  {
   "cell_type": "markdown",
   "metadata": {},
   "source": [
    "## Escalón unitario de Heaviside"
   ]
  },
  {
   "cell_type": "markdown",
   "metadata": {},
   "source": [
    "Al utilizar la función **ilaplace(F_s)** obtuvimos nuestra función $f(t)$ multiplicada por otra función $θ(t)$. Esta última es la manera en que Sympy expresa al escalón unitario de Heaviside:"
   ]
  },
  {
   "cell_type": "code",
   "execution_count": 23,
   "metadata": {},
   "outputs": [
    {
     "data": {
      "text/latex": [
       "$\\displaystyle \\theta\\left(t\\right)$"
      ],
      "text/plain": [
       "Heaviside(t)"
      ]
     },
     "execution_count": 23,
     "metadata": {},
     "output_type": "execute_result"
    }
   ],
   "source": [
    "Heaviside = sp.Heaviside(t)\n",
    "Heaviside"
   ]
  },
  {
   "cell_type": "markdown",
   "metadata": {},
   "source": [
    "Un detalle importante a tener en cuenta es que la definición del escalón unitario de Heaviside implementado por Sympy difiere a la definición adoptada en nuestra materia. La implementación de Sympy considera:\n",
    "\n",
    "\n",
    "$$\\theta(t)=\\begin{cases}\n",
    "0, \\quad t<0,\\\\\n",
    "\\frac{1}{2}, \\quad t=0,\\\\\n",
    "1,  \\quad t>0.\n",
    "\\end{cases}\n",
    "$$\n"
   ]
  },
  {
   "cell_type": "markdown",
   "metadata": {},
   "source": [
    "Esto lo podemos comprobar evaluando la función en $t=0$"
   ]
  },
  {
   "cell_type": "code",
   "execution_count": 25,
   "metadata": {},
   "outputs": [
    {
     "data": {
      "text/latex": [
       "$\\displaystyle \\frac{1}{2}$"
      ],
      "text/plain": [
       "1/2"
      ]
     },
     "execution_count": 25,
     "metadata": {},
     "output_type": "execute_result"
    }
   ],
   "source": [
    "Heaviside.subs(t,0)"
   ]
  },
  {
   "cell_type": "markdown",
   "metadata": {},
   "source": [
    "## Ejemplos"
   ]
  },
  {
   "cell_type": "markdown",
   "metadata": {},
   "source": [
    "En situaciones donde tengamos cocientes de polinomios sencillos de la forma"
   ]
  },
  {
   "cell_type": "code",
   "execution_count": 75,
   "metadata": {},
   "outputs": [
    {
     "data": {
      "text/latex": [
       "$\\displaystyle \\frac{1}{\\left(s + 1\\right) \\left(s + 3\\right)}$"
      ],
      "text/plain": [
       "1/((s + 1)*(s + 3))"
      ]
     },
     "execution_count": 75,
     "metadata": {},
     "output_type": "execute_result"
    }
   ],
   "source": [
    "F_s2 = (1/(s+3))*(1/(s+1))\n",
    "F_s2"
   ]
  },
  {
   "cell_type": "markdown",
   "metadata": {},
   "source": [
    "Podemos encontrar la transformada inversa de manera directa"
   ]
  },
  {
   "cell_type": "code",
   "execution_count": 45,
   "metadata": {},
   "outputs": [
    {
     "data": {
      "text/latex": [
       "$\\displaystyle \\frac{e^{- t} \\theta\\left(t\\right)}{2} - \\frac{e^{- 3 t} \\theta\\left(t\\right)}{2}$"
      ],
      "text/plain": [
       "exp(-t)*Heaviside(t)/2 - exp(-3*t)*Heaviside(t)/2"
      ]
     },
     "execution_count": 45,
     "metadata": {},
     "output_type": "execute_result"
    }
   ],
   "source": [
    "ilaplace(F_s2)"
   ]
  },
  {
   "cell_type": "markdown",
   "metadata": {},
   "source": [
    "Ahora en casos donde el cociente de polinomios tenga una estructura mas compleja, de la forma"
   ]
  },
  {
   "cell_type": "code",
   "execution_count": 76,
   "metadata": {},
   "outputs": [
    {
     "data": {
      "text/latex": [
       "$\\displaystyle \\frac{s^{4} + 2 s^{2} + 18}{s^{3} \\left(s^{2} + 9\\right)}$"
      ],
      "text/plain": [
       "(s**4 + 2*s**2 + 18)/(s**3*(s**2 + 9))"
      ]
     },
     "execution_count": 76,
     "metadata": {},
     "output_type": "execute_result"
    }
   ],
   "source": [
    "F_s3 = (s**4+2*s**2+18)/(s**3*(s**2+9))\n",
    "F_s3"
   ]
  },
  {
   "cell_type": "markdown",
   "metadata": {},
   "source": [
    "Es una buena práctica realizar la descomposición en fracciones simples antes de realizar el cálculo de la transformada inversa. Esto podemos hacerlo mediante el método **apart(s)**"
   ]
  },
  {
   "cell_type": "code",
   "execution_count": 77,
   "metadata": {},
   "outputs": [
    {
     "data": {
      "text/latex": [
       "$\\displaystyle \\frac{s}{s^{2} + 9} + \\frac{2}{s^{3}}$"
      ],
      "text/plain": [
       "s/(s**2 + 9) + 2/s**3"
      ]
     },
     "execution_count": 77,
     "metadata": {},
     "output_type": "execute_result"
    }
   ],
   "source": [
    "F_s3 = F_s3.apart(s)\n",
    "F_s3"
   ]
  },
  {
   "cell_type": "markdown",
   "metadata": {},
   "source": [
    "Y sobre esta nueva expresión podemos calcular la transformada inversa"
   ]
  },
  {
   "cell_type": "code",
   "execution_count": 78,
   "metadata": {},
   "outputs": [
    {
     "data": {
      "text/latex": [
       "$\\displaystyle t^{2} \\theta\\left(t\\right) + \\cos{\\left(3 t \\right)} \\theta\\left(t\\right)$"
      ],
      "text/plain": [
       "t**2*Heaviside(t) + cos(3*t)*Heaviside(t)"
      ]
     },
     "execution_count": 78,
     "metadata": {},
     "output_type": "execute_result"
    }
   ],
   "source": [
    "ilaplace(F_s3)"
   ]
  },
  {
   "cell_type": "markdown",
   "metadata": {},
   "source": [
    "Es importante tener en cuenta que si nuestra $F(s)$ no es exclusivamente un cociente de polinomios, el método **apart(s)** no puede aplicarse directamente. Este es el caso en que tengamos exponenciales complejas en el dominio $s$"
   ]
  },
  {
   "cell_type": "code",
   "execution_count": 82,
   "metadata": {},
   "outputs": [
    {
     "data": {
      "text/latex": [
       "$\\displaystyle \\frac{\\left(s^{4} + 2 s^{2} + 18\\right) e^{- s}}{s^{3} \\left(s^{2} + 9\\right)}$"
      ],
      "text/plain": [
       "(s**4 + 2*s**2 + 18)*exp(-s)/(s**3*(s**2 + 9))"
      ]
     },
     "execution_count": 82,
     "metadata": {},
     "output_type": "execute_result"
    }
   ],
   "source": [
    "F_s3 = sp.exp(-s)*(s**4+2*s**2+18)/(s**3*(s**2+9))\n",
    "F_s3"
   ]
  },
  {
   "cell_type": "markdown",
   "metadata": {},
   "source": [
    "Si ahora intentamos expandir $F(s)$ en fracciones simples obtenemos un error"
   ]
  },
  {
   "cell_type": "code",
   "execution_count": 81,
   "metadata": {},
   "outputs": [
    {
     "ename": "PolynomialError",
     "evalue": "exp(s) contains an element of the set of generators.",
     "output_type": "error",
     "traceback": [
      "\u001b[1;31m---------------------------------------------------------------------------\u001b[0m",
      "\u001b[1;31mKeyError\u001b[0m                                  Traceback (most recent call last)",
      "File \u001b[1;32mc:\\Users\\Emiliano\\AppData\\Local\\Programs\\Python\\Python312\\Lib\\site-packages\\sympy\\polys\\polyutils.py:229\u001b[0m, in \u001b[0;36m_parallel_dict_from_expr_if_gens\u001b[1;34m(exprs, opt)\u001b[0m\n\u001b[0;32m    227\u001b[0m         base, exp \u001b[38;5;241m=\u001b[39m decompose_power_rat(factor)\n\u001b[1;32m--> 229\u001b[0m     monom[\u001b[43mindices\u001b[49m\u001b[43m[\u001b[49m\u001b[43mbase\u001b[49m\u001b[43m]\u001b[49m] \u001b[38;5;241m=\u001b[39m exp\n\u001b[0;32m    230\u001b[0m \u001b[38;5;28;01mexcept\u001b[39;00m \u001b[38;5;167;01mKeyError\u001b[39;00m:\n",
      "\u001b[1;31mKeyError\u001b[0m: exp(s)",
      "\nDuring handling of the above exception, another exception occurred:\n",
      "\u001b[1;31mPolynomialError\u001b[0m                           Traceback (most recent call last)",
      "File \u001b[1;32mc:\\Users\\Emiliano\\AppData\\Local\\Programs\\Python\\Python312\\Lib\\site-packages\\sympy\\polys\\partfrac.py:81\u001b[0m, in \u001b[0;36mapart\u001b[1;34m(f, x, full, **options)\u001b[0m\n\u001b[0;32m     80\u001b[0m \u001b[38;5;28;01mtry\u001b[39;00m:\n\u001b[1;32m---> 81\u001b[0m     (P, Q), opt \u001b[38;5;241m=\u001b[39m \u001b[43mparallel_poly_from_expr\u001b[49m\u001b[43m(\u001b[49m\u001b[43m(\u001b[49m\u001b[43mP\u001b[49m\u001b[43m,\u001b[49m\u001b[43m \u001b[49m\u001b[43mQ\u001b[49m\u001b[43m)\u001b[49m\u001b[43m,\u001b[49m\u001b[43m \u001b[49m\u001b[43mx\u001b[49m\u001b[43m,\u001b[49m\u001b[43m \u001b[49m\u001b[38;5;241;43m*\u001b[39;49m\u001b[38;5;241;43m*\u001b[39;49m\u001b[43moptions\u001b[49m\u001b[43m)\u001b[49m\n\u001b[0;32m     82\u001b[0m \u001b[38;5;28;01mexcept\u001b[39;00m PolynomialError \u001b[38;5;28;01mas\u001b[39;00m msg:\n",
      "File \u001b[1;32mc:\\Users\\Emiliano\\AppData\\Local\\Programs\\Python\\Python312\\Lib\\site-packages\\sympy\\polys\\polytools.py:4538\u001b[0m, in \u001b[0;36mparallel_poly_from_expr\u001b[1;34m(exprs, *gens, **args)\u001b[0m\n\u001b[0;32m   4537\u001b[0m opt \u001b[38;5;241m=\u001b[39m options\u001b[38;5;241m.\u001b[39mbuild_options(gens, args)\n\u001b[1;32m-> 4538\u001b[0m \u001b[38;5;28;01mreturn\u001b[39;00m \u001b[43m_parallel_poly_from_expr\u001b[49m\u001b[43m(\u001b[49m\u001b[43mexprs\u001b[49m\u001b[43m,\u001b[49m\u001b[43m \u001b[49m\u001b[43mopt\u001b[49m\u001b[43m)\u001b[49m\n",
      "File \u001b[1;32mc:\\Users\\Emiliano\\AppData\\Local\\Programs\\Python\\Python312\\Lib\\site-packages\\sympy\\polys\\polytools.py:4589\u001b[0m, in \u001b[0;36m_parallel_poly_from_expr\u001b[1;34m(exprs, opt)\u001b[0m\n\u001b[0;32m   4587\u001b[0m         exprs[i] \u001b[38;5;241m=\u001b[39m exprs[i]\u001b[38;5;241m.\u001b[39mas_expr()\n\u001b[1;32m-> 4589\u001b[0m reps, opt \u001b[38;5;241m=\u001b[39m \u001b[43m_parallel_dict_from_expr\u001b[49m\u001b[43m(\u001b[49m\u001b[43mexprs\u001b[49m\u001b[43m,\u001b[49m\u001b[43m \u001b[49m\u001b[43mopt\u001b[49m\u001b[43m)\u001b[49m\n\u001b[0;32m   4590\u001b[0m \u001b[38;5;28;01mif\u001b[39;00m \u001b[38;5;129;01mnot\u001b[39;00m opt\u001b[38;5;241m.\u001b[39mgens:\n",
      "File \u001b[1;32mc:\\Users\\Emiliano\\AppData\\Local\\Programs\\Python\\Python312\\Lib\\site-packages\\sympy\\polys\\polyutils.py:350\u001b[0m, in \u001b[0;36m_parallel_dict_from_expr\u001b[1;34m(exprs, opt)\u001b[0m\n\u001b[0;32m    349\u001b[0m \u001b[38;5;28;01mif\u001b[39;00m opt\u001b[38;5;241m.\u001b[39mgens:\n\u001b[1;32m--> 350\u001b[0m     reps, gens \u001b[38;5;241m=\u001b[39m \u001b[43m_parallel_dict_from_expr_if_gens\u001b[49m\u001b[43m(\u001b[49m\u001b[43mexprs\u001b[49m\u001b[43m,\u001b[49m\u001b[43m \u001b[49m\u001b[43mopt\u001b[49m\u001b[43m)\u001b[49m\n\u001b[0;32m    351\u001b[0m \u001b[38;5;28;01melse\u001b[39;00m:\n",
      "File \u001b[1;32mc:\\Users\\Emiliano\\AppData\\Local\\Programs\\Python\\Python312\\Lib\\site-packages\\sympy\\polys\\polyutils.py:234\u001b[0m, in \u001b[0;36m_parallel_dict_from_expr_if_gens\u001b[1;34m(exprs, opt)\u001b[0m\n\u001b[0;32m    233\u001b[0m             \u001b[38;5;28;01melse\u001b[39;00m:\n\u001b[1;32m--> 234\u001b[0m                 \u001b[38;5;28;01mraise\u001b[39;00m PolynomialError(\u001b[38;5;124m\"\u001b[39m\u001b[38;5;132;01m%s\u001b[39;00m\u001b[38;5;124m contains an element of \u001b[39m\u001b[38;5;124m\"\u001b[39m\n\u001b[0;32m    235\u001b[0m                                       \u001b[38;5;124m\"\u001b[39m\u001b[38;5;124mthe set of generators.\u001b[39m\u001b[38;5;124m\"\u001b[39m \u001b[38;5;241m%\u001b[39m factor)\n\u001b[0;32m    237\u001b[0m monom \u001b[38;5;241m=\u001b[39m \u001b[38;5;28mtuple\u001b[39m(monom)\n",
      "\u001b[1;31mPolynomialError\u001b[0m: exp(s) contains an element of the set of generators.",
      "\nDuring handling of the above exception, another exception occurred:\n",
      "\u001b[1;31mPolynomialError\u001b[0m                           Traceback (most recent call last)",
      "Cell \u001b[1;32mIn[81], line 1\u001b[0m\n\u001b[1;32m----> 1\u001b[0m \u001b[43mF_s3\u001b[49m\u001b[38;5;241;43m.\u001b[39;49m\u001b[43mapart\u001b[49m\u001b[43m(\u001b[49m\u001b[43ms\u001b[49m\u001b[43m)\u001b[49m\n",
      "File \u001b[1;32mc:\\Users\\Emiliano\\AppData\\Local\\Programs\\Python\\Python312\\Lib\\site-packages\\sympy\\core\\expr.py:3742\u001b[0m, in \u001b[0;36mExpr.apart\u001b[1;34m(self, x, **args)\u001b[0m\n\u001b[0;32m   3740\u001b[0m \u001b[38;5;250m\u001b[39m\u001b[38;5;124;03m\"\"\"See the apart function in sympy.polys\"\"\"\u001b[39;00m\n\u001b[0;32m   3741\u001b[0m \u001b[38;5;28;01mfrom\u001b[39;00m \u001b[38;5;21;01msympy\u001b[39;00m\u001b[38;5;21;01m.\u001b[39;00m\u001b[38;5;21;01mpolys\u001b[39;00m\u001b[38;5;21;01m.\u001b[39;00m\u001b[38;5;21;01mpartfrac\u001b[39;00m \u001b[38;5;28;01mimport\u001b[39;00m apart\n\u001b[1;32m-> 3742\u001b[0m \u001b[38;5;28;01mreturn\u001b[39;00m \u001b[43mapart\u001b[49m\u001b[43m(\u001b[49m\u001b[38;5;28;43mself\u001b[39;49m\u001b[43m,\u001b[49m\u001b[43m \u001b[49m\u001b[43mx\u001b[49m\u001b[43m,\u001b[49m\u001b[43m \u001b[49m\u001b[38;5;241;43m*\u001b[39;49m\u001b[38;5;241;43m*\u001b[39;49m\u001b[43margs\u001b[49m\u001b[43m)\u001b[49m\n",
      "File \u001b[1;32mc:\\Users\\Emiliano\\AppData\\Local\\Programs\\Python\\Python312\\Lib\\site-packages\\sympy\\utilities\\decorator.py:34\u001b[0m, in \u001b[0;36mthreaded_factory.<locals>.threaded_func\u001b[1;34m(expr, *args, **kwargs)\u001b[0m\n\u001b[0;32m     31\u001b[0m     \u001b[38;5;28;01mreturn\u001b[39;00m expr\u001b[38;5;241m.\u001b[39m\u001b[38;5;18m__class__\u001b[39m(func(expr\u001b[38;5;241m.\u001b[39mlhs, \u001b[38;5;241m*\u001b[39margs, \u001b[38;5;241m*\u001b[39m\u001b[38;5;241m*\u001b[39mkwargs),\n\u001b[0;32m     32\u001b[0m                           func(expr\u001b[38;5;241m.\u001b[39mrhs, \u001b[38;5;241m*\u001b[39margs, \u001b[38;5;241m*\u001b[39m\u001b[38;5;241m*\u001b[39mkwargs))\n\u001b[0;32m     33\u001b[0m \u001b[38;5;28;01melse\u001b[39;00m:\n\u001b[1;32m---> 34\u001b[0m     \u001b[38;5;28;01mreturn\u001b[39;00m \u001b[43mfunc\u001b[49m\u001b[43m(\u001b[49m\u001b[43mexpr\u001b[49m\u001b[43m,\u001b[49m\u001b[43m \u001b[49m\u001b[38;5;241;43m*\u001b[39;49m\u001b[43margs\u001b[49m\u001b[43m,\u001b[49m\u001b[43m \u001b[49m\u001b[38;5;241;43m*\u001b[39;49m\u001b[38;5;241;43m*\u001b[39;49m\u001b[43mkwargs\u001b[49m\u001b[43m)\u001b[49m\n",
      "File \u001b[1;32mc:\\Users\\Emiliano\\AppData\\Local\\Programs\\Python\\Python312\\Lib\\site-packages\\sympy\\polys\\partfrac.py:84\u001b[0m, in \u001b[0;36mapart\u001b[1;34m(f, x, full, **options)\u001b[0m\n\u001b[0;32m     82\u001b[0m \u001b[38;5;28;01mexcept\u001b[39;00m PolynomialError \u001b[38;5;28;01mas\u001b[39;00m msg:\n\u001b[0;32m     83\u001b[0m     \u001b[38;5;28;01mif\u001b[39;00m f\u001b[38;5;241m.\u001b[39mis_commutative:\n\u001b[1;32m---> 84\u001b[0m         \u001b[38;5;28;01mraise\u001b[39;00m PolynomialError(msg)\n\u001b[0;32m     85\u001b[0m     \u001b[38;5;66;03m# non-commutative\u001b[39;00m\n\u001b[0;32m     86\u001b[0m     \u001b[38;5;28;01mif\u001b[39;00m f\u001b[38;5;241m.\u001b[39mis_Mul:\n",
      "\u001b[1;31mPolynomialError\u001b[0m: exp(s) contains an element of the set of generators."
     ]
    }
   ],
   "source": [
    "F_s3.apart(s)"
   ]
  },
  {
   "cell_type": "markdown",
   "metadata": {},
   "source": [
    "En este tipo de situaciones podemos intentar calcular directamente la transformada inversa sobre la función"
   ]
  },
  {
   "cell_type": "code",
   "execution_count": 84,
   "metadata": {},
   "outputs": [
    {
     "data": {
      "text/latex": [
       "$\\displaystyle \\left(t - 1\\right)^{2} \\theta\\left(t - 1\\right) + \\cos{\\left(3 t - 3 \\right)} \\theta\\left(t - 1\\right)$"
      ],
      "text/plain": [
       "(t - 1)**2*Heaviside(t - 1) + cos(3*t - 3)*Heaviside(t - 1)"
      ]
     },
     "execution_count": 84,
     "metadata": {},
     "output_type": "execute_result"
    }
   ],
   "source": [
    "ilaplace(F_s3)"
   ]
  },
  {
   "cell_type": "markdown",
   "metadata": {},
   "source": [
    "Vemos que en este caso el software fue capaz de llegar a una solución. En situaciones donde este no sea capaz de arribar a un resultado podemos valernos de nuestros conocimientos teóricos para resolver el problema, por ejemplo, podemos hacer uso del segundo teorema de la traslación"
   ]
  },
  {
   "cell_type": "code",
   "execution_count": 93,
   "metadata": {},
   "outputs": [
    {
     "data": {
      "text/latex": [
       "$\\displaystyle \\frac{s^{4} + 2 s^{2} + 18}{s^{3} \\left(s^{2} + 9\\right)}$"
      ],
      "text/plain": [
       "(s**4 + 2*s**2 + 18)/(s**3*(s**2 + 9))"
      ]
     },
     "execution_count": 93,
     "metadata": {},
     "output_type": "execute_result"
    }
   ],
   "source": [
    "# Definimos una nueva función F(s) sin la exponencial compleja\n",
    "F_s3_ = (s**4+2*s**2+18)/(s**3*(s**2+9))\n",
    "F_s3_"
   ]
  },
  {
   "cell_type": "code",
   "execution_count": 94,
   "metadata": {},
   "outputs": [
    {
     "data": {
      "text/latex": [
       "$\\displaystyle t^{2} \\theta\\left(t\\right) + \\cos{\\left(3 t \\right)} \\theta\\left(t\\right)$"
      ],
      "text/plain": [
       "t**2*Heaviside(t) + cos(3*t)*Heaviside(t)"
      ]
     },
     "execution_count": 94,
     "metadata": {},
     "output_type": "execute_result"
    }
   ],
   "source": [
    "# Calculamos su transformada inversa\n",
    "f_t3_aux = ilaplace(F_s3_)\n",
    "f_t3_aux"
   ]
  },
  {
   "cell_type": "code",
   "execution_count": 95,
   "metadata": {},
   "outputs": [
    {
     "data": {
      "text/latex": [
       "$\\displaystyle \\left(t - 1\\right)^{2} \\theta\\left(t - 1\\right) + \\cos{\\left(3 t - 3 \\right)} \\theta\\left(t - 1\\right)$"
      ],
      "text/plain": [
       "(t - 1)**2*Heaviside(t - 1) + cos(3*t - 3)*Heaviside(t - 1)"
      ]
     },
     "execution_count": 95,
     "metadata": {},
     "output_type": "execute_result"
    }
   ],
   "source": [
    "# Aplicamos el corrimiento temporal sobre la función encontrada\n",
    "f_t3_aux.subs(t,t-1)"
   ]
  },
  {
   "cell_type": "markdown",
   "metadata": {},
   "source": [
    "## Consideraciones a tener en cuenta"
   ]
  },
  {
   "cell_type": "markdown",
   "metadata": {},
   "source": [
    "A pesar de todas sus funcionalidades, Sympy aún no es una librería robusta en el cálculo de transformadas de Laplace, especialmente en el cálculo de transformadas inversas. La capacidad de cálculo de la antitransformada generalmente depende en gran medida de **cómo** expresamos nuestra función de interés sobre la cual queremos aplicar el operador. Uno de los motivos comunes por los que el software no es capaz de realizar el cálculo de una transformada inversa se debe a que las constantes numéricas involucradas están expresadas como valores flotantes y no como variables simbólicas. Por ejemplo, si una constante involucrada en el cálculo es $k = 0.5$ y el software no es capaz de resolver la antitransformada, una posible solución al problema es expresar la misma como una variable simbólica de la forma "
   ]
  },
  {
   "cell_type": "code",
   "execution_count": 99,
   "metadata": {},
   "outputs": [
    {
     "data": {
      "text/latex": [
       "$\\displaystyle \\frac{1}{2}$"
      ],
      "text/plain": [
       "1/2"
      ]
     },
     "execution_count": 99,
     "metadata": {},
     "output_type": "execute_result"
    }
   ],
   "source": [
    "k = sp.Rational(1,2)\n",
    "k\n"
   ]
  }
 ],
 "metadata": {
  "kernelspec": {
   "display_name": "Python 3",
   "language": "python",
   "name": "python3"
  },
  "language_info": {
   "codemirror_mode": {
    "name": "ipython",
    "version": 3
   },
   "file_extension": ".py",
   "mimetype": "text/x-python",
   "name": "python",
   "nbconvert_exporter": "python",
   "pygments_lexer": "ipython3",
   "version": "3.12.3"
  }
 },
 "nbformat": 4,
 "nbformat_minor": 2
}
